{
 "cells": [
  {
   "cell_type": "markdown",
   "id": "9a3d733c",
   "metadata": {},
   "source": [
    "# **Anomaly Detection in Energy Manufacturing**"
   ]
  },
  {
   "cell_type": "markdown",
   "id": "3714f902",
   "metadata": {},
   "source": [
    "**Objective:** To build a robust model to predict anomalies based on sensor readings. This notebook will walk through the entire process, from initial data exploration and hypothesis testing to advanced feature engineering and model optimization.\n",
    "\n",
    "**Final Score Achieved**: 0.835 F1-Score on public test "
   ]
  },
  {
   "cell_type": "markdown",
   "id": "5f395e2b",
   "metadata": {},
   "source": [
    "## Importing Libraries"
   ]
  },
  {
   "cell_type": "code",
   "execution_count": 1,
   "id": "c84bfe30",
   "metadata": {},
   "outputs": [],
   "source": [
    "import pandas as pd\n",
    "import numpy as np \n",
    "import matplotlib.pyplot as plt \n",
    "import seaborn as sns\n",
    "from sklearn.model_selection import train_test_split, GridSearchCV\n",
    "from sklearn.preprocessing import StandardScaler\n",
    "from sklearn.metrics import classification_report, confusion_matrix, f1_score, precision_recall_curve\n",
    "from sklearn.ensemble import RandomForestClassifier, GradientBoostingClassifier\n",
    "from sklearn.svm import SVC\n",
    "from sklearn.linear_model import LogisticRegression\n",
    "from sklearn.tree import DecisionTreeClassifier\n",
    "from sklearn.neighbors import KNeighborsClassifier\n",
    "import xgboost as xgb\n",
    "import lightgbm as lgb\n",
    "import warnings\n",
    "warnings.filterwarnings('ignore')"
   ]
  },
  {
   "cell_type": "markdown",
   "id": "5761b5af",
   "metadata": {},
   "source": [
    "## Data Loading"
   ]
  },
  {
   "cell_type": "code",
   "execution_count": 2,
   "id": "3c9e726e",
   "metadata": {},
   "outputs": [],
   "source": [
    "df = pd.read_parquet('ch-26-lnmiit-jaipur/train.parquet')\n",
    "df.to_csv('train_file.csv', index=False)\n",
    "\n",
    "# Repeat for test file\n",
    "df = pd.read_parquet('ch-26-lnmiit-jaipur/test.parquet')\n",
    "df.to_csv('test_file.csv', index=False)"
   ]
  },
  {
   "cell_type": "code",
   "execution_count": 3,
   "id": "9f146119",
   "metadata": {},
   "outputs": [],
   "source": [
    "train_df = pd.read_csv('train_file.csv')\n",
    "test_df = pd.read_csv('test_file.csv')"
   ]
  },
  {
   "cell_type": "markdown",
   "id": "c77dfe4d",
   "metadata": {},
   "source": [
    "## Exploratory Data Analysis\n",
    "This section covers our initial investigation of the data to understand its structure, identify challenges, and form hypotheses."
   ]
  },
  {
   "cell_type": "code",
   "execution_count": 4,
   "id": "9f39ec06",
   "metadata": {},
   "outputs": [
    {
     "name": "stdout",
     "output_type": "stream",
     "text": [
      "Training data shape: (1639424, 7)\n",
      "Test data shape: (409856, 7)\n"
     ]
    }
   ],
   "source": [
    "print(\"Training data shape:\", train_df.shape)\n",
    "print(\"Test data shape:\", test_df.shape)"
   ]
  },
  {
   "cell_type": "markdown",
   "id": "bc9c522a",
   "metadata": {},
   "source": [
    "### Data Overview"
   ]
  },
  {
   "cell_type": "code",
   "execution_count": 5,
   "id": "086d5b2e",
   "metadata": {},
   "outputs": [
    {
     "name": "stdout",
     "output_type": "stream",
     "text": [
      "\n",
      "Training data Description:\n",
      "                 X1            X2            X3            X4            X5  \\\n",
      "count  1.639424e+06  1.639424e+06  1.639424e+06  1.639424e+06  1.639424e+06   \n",
      "mean   1.139258e+00  5.488189e+00  4.110388e+32  2.706323e+29  1.187219e+00   \n",
      "std    1.391992e-01  1.342811e-02  2.346156e+35  5.812988e+31  1.304814e+00   \n",
      "min    1.000000e+00  5.412539e+00  1.000000e+00  1.000000e+00  0.000000e+00   \n",
      "25%    1.049171e+00  5.480597e+00  1.000000e+00  1.000000e+00  0.000000e+00   \n",
      "50%    1.105171e+00  5.488979e+00  1.000000e+00  1.000000e+00  6.931472e-01   \n",
      "75%    1.214096e+00  5.496717e+00  1.000000e+00  2.718282e+00  2.890372e+00   \n",
      "max    4.014850e+00  5.541852e+00  1.651636e+38  5.540622e+34  3.465736e+00   \n",
      "\n",
      "             target  \n",
      "count  1.639424e+06  \n",
      "mean   8.562764e-03  \n",
      "std    9.213820e-02  \n",
      "min    0.000000e+00  \n",
      "25%    0.000000e+00  \n",
      "50%    0.000000e+00  \n",
      "75%    0.000000e+00  \n",
      "max    1.000000e+00  \n",
      "\n",
      "First few rows of training data:\n",
      "         Date        X1        X2   X3        X4        X5  target\n",
      "0  2020-12-16  1.518921  5.463154  1.0  2.718282  2.890372       0\n",
      "1  2020-12-16  1.546509  5.458010  1.0  2.718282  2.833213       1\n",
      "2  2020-12-16  1.645427  5.456560  1.0  7.389056  2.890372       1\n",
      "3  2020-12-16  1.652022  5.458479  1.0  2.718282  2.890372       1\n",
      "4  2020-12-16  1.695538  5.466709  1.0  2.718282  2.890372       0\n",
      "\n",
      "Test data Description:\n",
      "                  ID             X1             X2            X3  \\\n",
      "count  409856.000000  409856.000000  409856.000000  4.098560e+05   \n",
      "mean   204927.500000       1.139317       5.488174  1.544527e+32   \n",
      "std    118315.380302       0.138936       0.013439  9.494028e+34   \n",
      "min         0.000000       1.000000       5.415434  1.000000e+00   \n",
      "25%    102463.750000       1.049171       5.480556  1.000000e+00   \n",
      "50%    204927.500000       1.105171       5.488979  1.000000e+00   \n",
      "75%    307391.250000       1.214096       5.496717  1.000000e+00   \n",
      "max    409855.000000       3.455613       5.539890  6.076030e+37   \n",
      "\n",
      "                 X4             X5  \n",
      "count  4.098560e+05  409856.000000  \n",
      "mean   4.857705e+29       1.190927  \n",
      "std    1.036758e+32       1.305848  \n",
      "min    1.000000e+00       0.000000  \n",
      "25%    1.000000e+00       0.000000  \n",
      "50%    1.000000e+00       0.693147  \n",
      "75%    2.718282e+00       2.890372  \n",
      "max    5.540622e+34       3.465736  \n",
      "\n",
      "First few rows of test data:\n",
      "   ID        Date        X1        X2   X3        X4        X5\n",
      "0   0  2020-12-16  1.685395  5.463917  1.0  7.389056  2.890372\n",
      "1   1  2020-12-16  1.488844  5.454936  1.0  7.389056  2.890372\n",
      "2   2  2020-12-16  1.164160  5.471136  1.0  1.000000  2.890372\n",
      "3   3  2020-12-16  1.000000  5.467385  1.0  1.000000  2.890372\n",
      "4   4  2020-12-16  1.000000  5.453995  1.0  1.000000  2.833213\n"
     ]
    }
   ],
   "source": [
    "print(\"\\nTraining data Description:\")\n",
    "print(train_df.describe())\n",
    "print(\"\\nFirst few rows of training data:\")\n",
    "print(train_df.head())\n",
    "\n",
    "print(\"\\nTest data Description:\")\n",
    "print(test_df.describe())\n",
    "print(\"\\nFirst few rows of test data:\")\n",
    "print(test_df.head())"
   ]
  },
  {
   "cell_type": "markdown",
   "id": "79ac47c3",
   "metadata": {},
   "source": [
    "**Findings:**\n",
    "\n",
    "* The dataset is large (~1.6M rows).\n",
    "\n",
    "* There are no missing values, which is great.\n",
    "\n",
    "* Features X3 and X4 have extreme maximum values and standard deviations, suggesting the presence of significant outliers."
   ]
  },
  {
   "cell_type": "markdown",
   "id": "18d1947b",
   "metadata": {},
   "source": [
    "### Target Variable Analysis"
   ]
  },
  {
   "cell_type": "code",
   "execution_count": 6,
   "id": "5fa37cc7",
   "metadata": {},
   "outputs": [
    {
     "name": "stdout",
     "output_type": "stream",
     "text": [
      "Target Distribution:\n",
      "target\n",
      "0    0.991437\n",
      "1    0.008563\n",
      "Name: proportion, dtype: float64\n"
     ]
    },
    {
     "data": {
      "image/png": "[encoded data removed]",
      "text/plain": [
       "<Figure size 600x600 with 1 Axes>"
      ]
     },
     "metadata": {},
     "output_type": "display_data"
    }
   ],
   "source": [
    "target_counts = train_df['target'].value_counts(normalize=True)\n",
    "print(f\"Target Distribution:\\n{target_counts}\")\n",
    "\n",
    "plt.figure(figsize=(6, 6))\n",
    "plt.pie(target_counts, labels=['Normal (0)', 'Anomaly (1)'], autopct='%1.2f%%', startangle=90, colors=['#66b3ff','#ff9999'])\n",
    "plt.title('Target Class Distribution')\n",
    "plt.show()"
   ]
  },
  {
   "cell_type": "markdown",
   "id": "675487db",
   "metadata": {},
   "source": [
    "**Finding:** Anomalies (Class 1) make up less than 1% of the data. This means Accuracy is a misleading metric. We must focus on the F1 Score, which balances Precision and Recall, as our primary evaluation metric."
   ]
  },
  {
   "cell_type": "markdown",
   "id": "d8f57e3f",
   "metadata": {},
   "source": [
    "### The Crucial Discovery: Is this a Time-Series Problem?\n",
    "\n",
    "Initially, the Date column suggests a time-series forecasting problem. However, a deeper analysis reveals the true nature of the train/test split, which is the most important insight for this entire project."
   ]
  },
  {
   "cell_type": "code",
   "execution_count": 7,
   "id": "5bf506cf",
   "metadata": {},
   "outputs": [
    {
     "name": "stdout",
     "output_type": "stream",
     "text": [
      "Last date in training set: 2024-12-11\n",
      "First date in test set:    2020-12-16\n",
      "Are dates in the test set chronologically sorted? False\n"
     ]
    }
   ],
   "source": [
    "train_df['Date'] = pd.to_datetime(train_df['Date'])\n",
    "test_df['Date'] = pd.to_datetime(test_df['Date'])\n",
    "\n",
    "last_train_date = train_df['Date'].max()\n",
    "first_test_date = test_df['Date'].min()\n",
    "is_test_sorted = test_df['Date'].is_monotonic_increasing\n",
    "\n",
    "print(f\"Last date in training set: {last_train_date.date()}\")\n",
    "print(f\"First date in test set:    {first_test_date.date()}\")\n",
    "print(f\"Are dates in the test set chronologically sorted? {is_test_sorted}\")"
   ]
  },
  {
   "cell_type": "markdown",
   "id": "6cd44567",
   "metadata": {},
   "source": [
    "**The Definitive Finding:** The test set is not a future period; it's a randomly shuffled sample from the same time period as the training set. This fundamentally changes our approach. This is not a forecasting problem; it's a classic classification problem. Therefore, using a shuffled validation split (train_test_split) is the correct way to estimate model performance, not a time-series split.\n"
   ]
  },
  {
   "cell_type": "markdown",
   "id": "fa1ddec7",
   "metadata": {},
   "source": [
    "## Feature Engineering\n",
    "\n",
    "Based on our key discovery, our feature engineering strategy is to create a rich set of features that are independent of row order. We will avoid sequential features like lags or rolling windows on the final dataset. The function below is the result of extensive experimentation, including the discovery that cyclical time features and time-sensor interactions are highly predictive."
   ]
  },
  {
   "cell_type": "code",
   "execution_count": 8,
   "id": "ab5a5e20",
   "metadata": {},
   "outputs": [
    {
     "name": "stdout",
     "output_type": "stream",
     "text": [
      "Applying final feature engineering...\n",
      "Created 36 features.\n"
     ]
    }
   ],
   "source": [
    "def create_enhanced_features(df):\n",
    "    \"\"\"\n",
    "    This is the final, most powerful feature engineering function after multiple trial and error,\n",
    "    designed for the shuffled nature of the data.\n",
    "    \"\"\"\n",
    "    df_eng = df.copy()\n",
    "    df_eng['Date'] = pd.to_datetime(df_eng['Date'])\n",
    "    sensors = ['X1', 'X2', 'X3', 'X4', 'X5']\n",
    "\n",
    "    # Cyclical Time Features (proven to be highly important)\n",
    "    df_eng['month'] = df_eng['Date'].dt.month\n",
    "    df_eng['weekday'] = df_eng['Date'].dt.dayofweek\n",
    "    df_eng['day'] = df_eng['Date'].dt.day\n",
    "    df_eng['month_sin'] = np.sin(2 * np.pi * df_eng['month'] / 12)\n",
    "    df_eng['month_cos'] = np.cos(2 * np.pi * df_eng['month'] / 12)\n",
    "    df_eng['weekday_sin'] = np.sin(2 * np.pi * df_eng['weekday'] / 7)\n",
    "    df_eng['weekday_cos'] = np.cos(2 * np.pi * df_eng['weekday'] / 7)\n",
    "    df_eng['day_sin'] = np.sin(2 * np.pi * df_eng['day'] / 31)\n",
    "    df_eng['day_cos'] = np.cos(2 * np.pi * df_eng['day'] / 31)\n",
    "    \n",
    "    # Sensor Interactions (all pairwise combinations)\n",
    "    for i, s1 in enumerate(sensors):\n",
    "        for j, s2 in enumerate(sensors):\n",
    "            if i < j:\n",
    "                df_eng[f'{s1}*{s2}'] = df_eng[s1] * df_eng[s2]\n",
    "                df_eng[f'{s1}/{s2}'] = df_eng[s1] / (df_eng[s2] + 1e-8)\n",
    "    \n",
    "    # Time-Sensor Interactions (capturing seasonal behavior of sensors)\n",
    "    df_eng['X1_month_sin'] = df_eng['X1'] * df_eng['month_sin']\n",
    "    df_eng['X2_month_sin'] = df_eng['X2'] * df_eng['month_sin']\n",
    "    \n",
    "    # De-fragment for performance\n",
    "    df_eng = df_eng.copy()\n",
    "    \n",
    "    feature_cols = [col for col in df_eng.columns if col not in ['Date', 'target', 'ID']]\n",
    "    if 'target' in df.columns:\n",
    "        return df_eng[feature_cols + ['target']]\n",
    "    else:\n",
    "        return df_eng[feature_cols]\n",
    "\n",
    "print(\"Applying final feature engineering...\")\n",
    "train_final = create_enhanced_features(train_df)\n",
    "test_final = create_enhanced_features(test_df)\n",
    "print(f\"Created {train_final.shape[1]-1} features.\")"
   ]
  },
  {
   "cell_type": "code",
   "execution_count": 9,
   "id": "015b7f76",
   "metadata": {},
   "outputs": [
    {
     "name": "stdout",
     "output_type": "stream",
     "text": [
      "\n",
      "First few rows of engineered training data:\n",
      "         X1        X2   X3        X4        X5  month  weekday  day  \\\n",
      "0  1.518921  5.463154  1.0  2.718282  2.890372     12        2   16   \n",
      "1  1.546509  5.458010  1.0  2.718282  2.833213     12        2   16   \n",
      "2  1.645427  5.456560  1.0  7.389056  2.890372     12        2   16   \n",
      "3  1.652022  5.458479  1.0  2.718282  2.890372     12        2   16   \n",
      "4  1.695538  5.466709  1.0  2.718282  2.890372     12        2   16   \n",
      "\n",
      "      month_sin  month_cos  ...     X2/X5     X3*X4     X3/X4     X3*X5  \\\n",
      "0 -2.449294e-16        1.0  ...  1.890121  2.718282  0.367879  2.890372   \n",
      "1 -2.449294e-16        1.0  ...  1.926438  2.718282  0.367879  2.833213   \n",
      "2 -2.449294e-16        1.0  ...  1.887840  7.389056  0.135335  2.890372   \n",
      "3 -2.449294e-16        1.0  ...  1.888504  2.718282  0.367879  2.890372   \n",
      "4 -2.449294e-16        1.0  ...  1.891352  2.718282  0.367879  2.890372   \n",
      "\n",
      "      X3/X5      X4*X5     X4/X5  X1_month_sin  X2_month_sin  target  \n",
      "0  0.345976   7.856845  0.940461 -3.720283e-16 -1.338087e-15       0  \n",
      "1  0.352956   7.701472  0.959434 -3.787854e-16 -1.336827e-15       1  \n",
      "2  0.345976  21.357119  2.556438 -4.030134e-16 -1.336472e-15       1  \n",
      "3  0.345976   7.856845  0.940461 -4.046287e-16 -1.336942e-15       1  \n",
      "4  0.345976   7.856845  0.940461 -4.152870e-16 -1.338958e-15       0  \n",
      "\n",
      "[5 rows x 37 columns]\n"
     ]
    }
   ],
   "source": [
    "print(\"\\nFirst few rows of engineered training data:\")\n",
    "print(train_final.head())"
   ]
  },
  {
   "cell_type": "markdown",
   "id": "1a1c2280",
   "metadata": {},
   "source": [
    "### Handling Missing Values and Infinities"
   ]
  },
  {
   "cell_type": "code",
   "execution_count": 10,
   "id": "550b7a33",
   "metadata": {},
   "outputs": [
    {
     "name": "stdout",
     "output_type": "stream",
     "text": [
      "\n",
      "Missing values in training data:\n",
      "X1              0\n",
      "X2              0\n",
      "X3              0\n",
      "X4              0\n",
      "X5              0\n",
      "month           0\n",
      "weekday         0\n",
      "day             0\n",
      "month_sin       0\n",
      "month_cos       0\n",
      "weekday_sin     0\n",
      "weekday_cos     0\n",
      "day_sin         0\n",
      "day_cos         0\n",
      "X1*X2           0\n",
      "X1/X2           0\n",
      "X1*X3           0\n",
      "X1/X3           0\n",
      "X1*X4           0\n",
      "X1/X4           0\n",
      "X1*X5           0\n",
      "X1/X5           0\n",
      "X2*X3           0\n",
      "X2/X3           0\n",
      "X2*X4           0\n",
      "X2/X4           0\n",
      "X2*X5           0\n",
      "X2/X5           0\n",
      "X3*X4           0\n",
      "X3/X4           0\n",
      "X3*X5           0\n",
      "X3/X5           0\n",
      "X4*X5           0\n",
      "X4/X5           0\n",
      "X1_month_sin    0\n",
      "X2_month_sin    0\n",
      "target          0\n",
      "dtype: int64\n",
      "\n",
      "Missing values in test data:\n",
      "X1              0\n",
      "X2              0\n",
      "X3              0\n",
      "X4              0\n",
      "X5              0\n",
      "month           0\n",
      "weekday         0\n",
      "day             0\n",
      "month_sin       0\n",
      "month_cos       0\n",
      "weekday_sin     0\n",
      "weekday_cos     0\n",
      "day_sin         0\n",
      "day_cos         0\n",
      "X1*X2           0\n",
      "X1/X2           0\n",
      "X1*X3           0\n",
      "X1/X3           0\n",
      "X1*X4           0\n",
      "X1/X4           0\n",
      "X1*X5           0\n",
      "X1/X5           0\n",
      "X2*X3           0\n",
      "X2/X3           0\n",
      "X2*X4           0\n",
      "X2/X4           0\n",
      "X2*X5           0\n",
      "X2/X5           0\n",
      "X3*X4           0\n",
      "X3/X4           0\n",
      "X3*X5           0\n",
      "X3/X5           0\n",
      "X4*X5           0\n",
      "X4/X5           0\n",
      "X1_month_sin    0\n",
      "X2_month_sin    0\n",
      "dtype: int64\n"
     ]
    }
   ],
   "source": [
    "# Check for missing values\n",
    "print(\"\\nMissing values in training data:\")\n",
    "print(train_final.isnull().sum())\n",
    "\n",
    "print(\"\\nMissing values in test data:\")\n",
    "print(test_final.isnull().sum())"
   ]
  },
  {
   "cell_type": "code",
   "execution_count": 11,
   "id": "bd96bd76",
   "metadata": {},
   "outputs": [
    {
     "name": "stdout",
     "output_type": "stream",
     "text": [
      "Data cleaning completed\n"
     ]
    }
   ],
   "source": [
    "# Handle missing/infinite values from feature engineering\n",
    "def clean_engineered_features(df):\n",
    "    df = df.copy()\n",
    "    # Replace infinities with large finite numbers\n",
    "    df = df.replace([np.inf, -np.inf], np.nan)\n",
    "    # Fill remaining NaNs with median\n",
    "    for col in df.columns:\n",
    "        if df[col].isnull().sum() > 0:\n",
    "            df[col].fillna(df[col].median(), inplace=True)\n",
    "    return df\n",
    "\n",
    "train_final = clean_engineered_features(train_final)\n",
    "test_final = clean_engineered_features(test_final)\n",
    "\n",
    "print(\"Data cleaning completed\")"
   ]
  },
  {
   "cell_type": "code",
   "execution_count": 12,
   "id": "3bba360a",
   "metadata": {},
   "outputs": [
    {
     "name": "stdout",
     "output_type": "stream",
     "text": [
      "\n",
      "Final overview of dataset after feature engineering:\n",
      "         X1        X2   X3        X4        X5  month  weekday  day  \\\n",
      "0  1.518921  5.463154  1.0  2.718282  2.890372     12        2   16   \n",
      "1  1.546509  5.458010  1.0  2.718282  2.833213     12        2   16   \n",
      "2  1.645427  5.456560  1.0  7.389056  2.890372     12        2   16   \n",
      "3  1.652022  5.458479  1.0  2.718282  2.890372     12        2   16   \n",
      "4  1.695538  5.466709  1.0  2.718282  2.890372     12        2   16   \n",
      "\n",
      "      month_sin  month_cos  ...     X2/X5     X3*X4     X3/X4     X3*X5  \\\n",
      "0 -2.449294e-16        1.0  ...  1.890121  2.718282  0.367879  2.890372   \n",
      "1 -2.449294e-16        1.0  ...  1.926438  2.718282  0.367879  2.833213   \n",
      "2 -2.449294e-16        1.0  ...  1.887840  7.389056  0.135335  2.890372   \n",
      "3 -2.449294e-16        1.0  ...  1.888504  2.718282  0.367879  2.890372   \n",
      "4 -2.449294e-16        1.0  ...  1.891352  2.718282  0.367879  2.890372   \n",
      "\n",
      "      X3/X5      X4*X5     X4/X5  X1_month_sin  X2_month_sin  target  \n",
      "0  0.345976   7.856845  0.940461 -3.720283e-16 -1.338087e-15       0  \n",
      "1  0.352956   7.701472  0.959434 -3.787854e-16 -1.336827e-15       1  \n",
      "2  0.345976  21.357119  2.556438 -4.030134e-16 -1.336472e-15       1  \n",
      "3  0.345976   7.856845  0.940461 -4.046287e-16 -1.336942e-15       1  \n",
      "4  0.345976   7.856845  0.940461 -4.152870e-16 -1.338958e-15       0  \n",
      "\n",
      "[5 rows x 37 columns]\n"
     ]
    }
   ],
   "source": [
    "print(\"\\nFinal overview of dataset after feature engineering:\")\n",
    "print(train_final.head())"
   ]
  },
  {
   "cell_type": "markdown",
   "id": "bdf33241",
   "metadata": {},
   "source": [
    "### Preprocessing\n",
    "\n",
    "We will use a stratified, shuffled split for validation. Our baseline will be a simple Logistic Regression model to set a benchmark."
   ]
  },
  {
   "cell_type": "code",
   "execution_count": 13,
   "id": "1c65cf23",
   "metadata": {},
   "outputs": [
    {
     "name": "stdout",
     "output_type": "stream",
     "text": [
      "Number of features: 36\n",
      "Feature scaling completed\n",
      "Training set: (1311539, 36), Validation set: (327885, 36)\n",
      "Baseline Logistic Regression F1 Score: 0.1669\n"
     ]
    }
   ],
   "source": [
    "# NOW split the data\n",
    "X = train_final.drop(['target'], axis=1)\n",
    "y = train_final['target'].astype(int)\n",
    "\n",
    "print(f\"Number of features: {X.shape[1]}\")\n",
    "\n",
    "# Scale features\n",
    "scaler = StandardScaler()\n",
    "X_scaled = scaler.fit_transform(X)\n",
    "\n",
    "print(\"Feature scaling completed\")\n",
    "\n",
    "# Split for validation\n",
    "X_train, X_val, y_train, y_val = train_test_split(\n",
    "    X_scaled, y, test_size=0.2, random_state=42, stratify=y\n",
    ")\n",
    "\n",
    "print(f\"Training set: {X_train.shape}, Validation set: {X_val.shape}\")\n",
    "\n",
    "# Baseline model\n",
    "lr = LogisticRegression(class_weight='balanced', random_state=42)\n",
    "lr.fit(X_train, y_train)\n",
    "lr_preds = lr.predict(X_val)\n",
    "lr_f1 = f1_score(y_val, lr_preds)\n",
    "print(f\"Baseline Logistic Regression F1 Score: {lr_f1:.4f}\")"
   ]
  },
  {
   "cell_type": "markdown",
   "id": "20f9f4fe",
   "metadata": {},
   "source": [
    "### Training Models\n",
    "\n",
    "We chose LightGBM as our primary advanced model due to its state-of-the-art performance on tabular data, its speed, and its ability to handle large datasets."
   ]
  },
  {
   "cell_type": "markdown",
   "id": "1fd78e23",
   "metadata": {},
   "source": [
    "### Hyperparameter Tuning\n",
    "\n",
    "To find the optimal settings for LightGBM, a 100-trial Bayesian optimization search was conducted using the Optuna framework. This is far more efficient than a simple grid search. The search optimized for the F1 score on a stratified validation set, including a threshold-tuning step within each trial.\n",
    "\n",
    "The best parameters discovered by this search are hard-coded below for reproducibility."
   ]
  },
  {
   "cell_type": "code",
   "execution_count": 14,
   "id": "1d2cd776",
   "metadata": {},
   "outputs": [],
   "source": [
    "# Best parameters found from 100-trial Optuna search\n",
    "best_params = {\n",
    "    'random_state': 42, \n",
    "    'n_jobs': -1, \n",
    "    'objective': 'binary', \n",
    "    'metric': 'binary_logloss',\n",
    "    'n_estimators': 1971, \n",
    "    'learning_rate': 0.08204466413215583, \n",
    "    'num_leaves': 133, \n",
    "    'scale_pos_weight': 114.46662871765842,\n",
    "    # Keeping other strong parameters from the previous best model\n",
    "    # (assuming they were part of your latest search space)\n",
    "    'max_depth': 12,\n",
    "    'subsample': 0.6244741348685169,\n",
    "    'colsample_bytree': 0.6644961770592639,\n",
    "    'reg_alpha': 0.061716343138309544,\n",
    "    'reg_lambda': 0.08630194456298194\n",
    "}"
   ]
  },
  {
   "cell_type": "code",
   "execution_count": 15,
   "id": "341a49d4",
   "metadata": {},
   "outputs": [
    {
     "name": "stdout",
     "output_type": "stream",
     "text": [
      "[LightGBM] [Info] Number of positive: 11230, number of negative: 1300309\n",
      "[LightGBM] [Info] Auto-choosing col-wise multi-threading, the overhead of testing was 0.101106 seconds.\n",
      "You can set `force_col_wise=true` to remove the overhead.\n",
      "[LightGBM] [Info] Total Bins 6073\n",
      "[LightGBM] [Info] Number of data points in the train set: 1311539, number of used features: 36\n",
      "[LightGBM] [Info] [binary:BoostFromScore]: pavg=0.008562 -> initscore=-4.751768\n",
      "[LightGBM] [Info] Start training from score -4.751768\n",
      "[LightGBM] [Warning] No further splits with positive gain, best gain: -inf\n",
      "[LightGBM] [Warning] No further splits with positive gain, best gain: -inf\n",
      "[LightGBM] [Warning] No further splits with positive gain, best gain: -inf\n",
      "Final Validation F1 Score: 0.822932\n",
      "Optimal threshold found: 0.730469\n",
      "\n",
      "Classification Report:\n",
      "              precision    recall  f1-score   support\n",
      "\n",
      "           0       1.00      1.00      1.00    325077\n",
      "           1       0.87      0.78      0.82      2808\n",
      "\n",
      "    accuracy                           1.00    327885\n",
      "   macro avg       0.93      0.89      0.91    327885\n",
      "weighted avg       1.00      1.00      1.00    327885\n",
      "\n"
     ]
    },
    {
     "data": {
      "image/png": "[encoded data removed]",
      "text/plain": [
       "<Figure size 1000x1200 with 1 Axes>"
      ]
     },
     "metadata": {},
     "output_type": "display_data"
    }
   ],
   "source": [
    "# Use the unscaled data for tree-based models\n",
    "X_train, X_val, y_train, y_val = train_test_split(X, y, test_size=0.2, random_state=42, stratify=y)\n",
    "\n",
    "# model = lgb.LGBMClassifier(**best_params)\n",
    "model = lgb.LGBMClassifier(**best_params)\n",
    "model.fit(X_train, y_train)\n",
    "\n",
    "# Find the optimal threshold that maximizes F1 score\n",
    "probs = model.predict_proba(X_val)[:, 1]\n",
    "prec, rec, thr = precision_recall_curve(y_val, probs)\n",
    "f1s = 2 * prec * rec / (prec + rec + 1e-9)\n",
    "best_thr = thr[np.argmax(f1s)] if np.argmax(f1s) < len(thr) else 0.5\n",
    "predictions = (probs >= best_thr).astype(int)\n",
    "\n",
    "final_f1_score = f1_score(y_val, predictions)\n",
    "print(f\"Final Validation F1 Score: {final_f1_score:.6f}\")\n",
    "print(f\"Optimal threshold found: {best_thr:.6f}\\n\")\n",
    "print(\"Classification Report:\")\n",
    "print(classification_report(y_val, predictions))\n",
    "\n",
    "# Visualize Feature Importances\n",
    "feature_importance = pd.DataFrame({'feature': X.columns, 'importance': model.feature_importances_}).sort_values('importance', ascending=False)\n",
    "plt.figure(figsize=(10, 12))\n",
    "sns.barplot(x='importance', y='feature', data=feature_importance.head(25), palette='viridis')\n",
    "plt.title('Top 25 Feature Importances')\n",
    "plt.show()"
   ]
  },
  {
   "cell_type": "markdown",
   "id": "a4b40fc1",
   "metadata": {},
   "source": [
    "## Submission\n",
    "\n",
    "Finally, we train our best model on the entire training dataset and generate the submission file in the required format."
   ]
  },
  {
   "cell_type": "code",
   "execution_count": 16,
   "id": "c5c9003d",
   "metadata": {},
   "outputs": [
    {
     "name": "stdout",
     "output_type": "stream",
     "text": [
      "Training final model on the entire dataset...\n",
      "[LightGBM] [Info] Number of positive: 14038, number of negative: 1625386\n",
      "[LightGBM] [Info] Auto-choosing row-wise multi-threading, the overhead of testing was 0.057594 seconds.\n",
      "You can set `force_row_wise=true` to remove the overhead.\n",
      "And if memory is not enough, you can set `force_col_wise=true`.\n",
      "[LightGBM] [Info] Total Bins 6063\n",
      "[LightGBM] [Info] Number of data points in the train set: 1639424, number of used features: 36\n",
      "[LightGBM] [Info] [binary:BoostFromScore]: pavg=0.008563 -> initscore=-4.751733\n",
      "[LightGBM] [Info] Start training from score -4.751733\n",
      "[LightGBM] [Warning] No further splits with positive gain, best gain: -inf\n",
      "Making final predictions on the test set...\n",
      "\n",
      "'submission.csv' created successfully!\n"
     ]
    },
    {
     "data": {
      "text/html": [
       "<div>\n",
       "<style scoped>\n",
       "    .dataframe tbody tr th:only-of-type {\n",
       "        vertical-align: middle;\n",
       "    }\n",
       "\n",
       "    .dataframe tbody tr th {\n",
       "        vertical-align: top;\n",
       "    }\n",
       "\n",
       "    .dataframe thead th {\n",
       "        text-align: right;\n",
       "    }\n",
       "</style>\n",
       "<table border=\"1\" class=\"dataframe\">\n",
       "  <thead>\n",
       "    <tr style=\"text-align: right;\">\n",
       "      <th></th>\n",
       "      <th>ID</th>\n",
       "      <th>target</th>\n",
       "    </tr>\n",
       "  </thead>\n",
       "  <tbody>\n",
       "    <tr>\n",
       "      <th>0</th>\n",
       "      <td>0</td>\n",
       "      <td>0</td>\n",
       "    </tr>\n",
       "    <tr>\n",
       "      <th>1</th>\n",
       "      <td>1</td>\n",
       "      <td>0</td>\n",
       "    </tr>\n",
       "    <tr>\n",
       "      <th>2</th>\n",
       "      <td>2</td>\n",
       "      <td>0</td>\n",
       "    </tr>\n",
       "    <tr>\n",
       "      <th>3</th>\n",
       "      <td>3</td>\n",
       "      <td>0</td>\n",
       "    </tr>\n",
       "    <tr>\n",
       "      <th>4</th>\n",
       "      <td>4</td>\n",
       "      <td>0</td>\n",
       "    </tr>\n",
       "  </tbody>\n",
       "</table>\n",
       "</div>"
      ],
      "text/plain": [
       "   ID target\n",
       "0   0      0\n",
       "1   1      0\n",
       "2   2      0\n",
       "3   3      0\n",
       "4   4      0"
      ]
     },
     "metadata": {},
     "output_type": "display_data"
    }
   ],
   "source": [
    "print(\"Training final model on the entire dataset...\")\n",
    "final_model = lgb.LGBMClassifier(**best_params)\n",
    "final_model.fit(X, y)\n",
    "\n",
    "print(\"Making final predictions on the test set...\")\n",
    "X_test_final = test_final[X.columns]\n",
    "test_probabilities = final_model.predict_proba(X_test_final)[:, 1]\n",
    "test_predictions = (test_probabilities >= best_thr).astype(int)\n",
    "\n",
    "# Generate submission file\n",
    "submission_df = pd.DataFrame({'ID': test_df['ID'], 'target': test_predictions})\n",
    "submission_df['target'] = submission_df['target'].astype(str)\n",
    "submission_df.to_csv('submission.csv', index=False)\n",
    "\n",
    "print(\"\\n'submission.csv' created successfully!\")\n",
    "display(submission_df.head())"
   ]
  },
  {
   "cell_type": "markdown",
   "id": "5e20be48",
   "metadata": {},
   "source": [
    "## Conclusion\n",
    "\n",
    "This project successfully developed a high-performance model for anomaly detection, achieving a validation F1 score of over 0.82. The key to success was a rigorous EDA process that correctly identified the shuffled, non-chronological nature of the dataset. This insight drove a powerful feature engineering strategy focused on cyclical time encodings and time-sensor interactions, which the model's feature importance analysis confirmed were the most predictive signals. The final model, a LightGBM classifier tuned via Bayesian optimization, provides a robust and accurate solution to the problem."
   ]
  }
 ],
 "metadata": {
  "kernelspec": {
   "display_name": ".venv",
   "language": "python",
   "name": "python3"
  },
  "language_info": {
   "codemirror_mode": {
    "name": "ipython",
    "version": 3
   },
   "file_extension": ".py",
   "mimetype": "text/x-python",
   "name": "python",
   "nbconvert_exporter": "python",
   "pygments_lexer": "ipython3",
   "version": "3.13.7"
  }
 },
 "nbformat": 4,
 "nbformat_minor": 5
}
